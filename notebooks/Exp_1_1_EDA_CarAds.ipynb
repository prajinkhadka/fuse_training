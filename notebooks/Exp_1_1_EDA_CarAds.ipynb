{
  "nbformat": 4,
  "nbformat_minor": 0,
  "metadata": {
    "colab": {
      "name": "Exp-1.1-EDA-CarAds.ipynb",
      "provenance": []
    },
    "kernelspec": {
      "name": "python3",
      "display_name": "Python 3"
    }
  },
  "cells": [
    {
      "cell_type": "code",
      "metadata": {
        "id": "A5oFDXGdHny8",
        "colab_type": "code",
        "colab": {}
      },
      "source": [
        "import numpy as np\n",
        "import pandas as pd\n",
        "import matplotlib.pyplot as plt\n",
        "%matplotlib inline"
      ],
      "execution_count": 0,
      "outputs": []
    },
    {
      "cell_type": "code",
      "metadata": {
        "id": "N5Z0W7l9YmpF",
        "colab_type": "code",
        "outputId": "1fbff622-97dc-4967-e924-45d9bc399321",
        "colab": {
          "base_uri": "https://localhost:8080/",
          "height": 156
        }
      },
      "source": [
        "from google.colab import drive\n",
        "drive.mount('/gdrive', force_remount=True)\n",
        "dataset = pd.read_csv('/gdrive/My Drive/BigCarAds.csv')"
      ],
      "execution_count": 3,
      "outputs": [
        {
          "output_type": "stream",
          "text": [
            "Go to this URL in a browser: https://accounts.google.com/o/oauth2/auth?client_id=947318989803-6bn6qk8qdgf4n4g3pfee6491hc0brc4i.apps.googleusercontent.com&redirect_uri=urn%3aietf%3awg%3aoauth%3a2.0%3aoob&response_type=code&scope=email%20https%3a%2f%2fwww.googleapis.com%2fauth%2fdocs.test%20https%3a%2f%2fwww.googleapis.com%2fauth%2fdrive%20https%3a%2f%2fwww.googleapis.com%2fauth%2fdrive.photos.readonly%20https%3a%2f%2fwww.googleapis.com%2fauth%2fpeopleapi.readonly\n",
            "\n",
            "Enter your authorization code:\n",
            "··········\n",
            "Mounted at /gdrive\n"
          ],
          "name": "stdout"
        },
        {
          "output_type": "stream",
          "text": [
            "/usr/local/lib/python3.6/dist-packages/IPython/core/interactiveshell.py:2718: DtypeWarning: Columns (7,8,10,11,12) have mixed types.Specify dtype option on import or set low_memory=False.\n",
            "  interactivity=interactivity, compiler=compiler, result=result)\n"
          ],
          "name": "stderr"
        }
      ]
    },
    {
      "cell_type": "code",
      "metadata": {
        "id": "vlOT_OXPSQWv",
        "colab_type": "code",
        "outputId": "241eccf9-c41b-4f47-bf8d-3430a91c868f",
        "colab": {
          "base_uri": "https://localhost:8080/",
          "height": 309
        }
      },
      "source": [
        "dataset.head()"
      ],
      "execution_count": 4,
      "outputs": [
        {
          "output_type": "execute_result",
          "data": {
            "text/html": [
              "<div>\n",
              "<style scoped>\n",
              "    .dataframe tbody tr th:only-of-type {\n",
              "        vertical-align: middle;\n",
              "    }\n",
              "\n",
              "    .dataframe tbody tr th {\n",
              "        vertical-align: top;\n",
              "    }\n",
              "\n",
              "    .dataframe thead th {\n",
              "        text-align: right;\n",
              "    }\n",
              "</style>\n",
              "<table border=\"1\" class=\"dataframe\">\n",
              "  <thead>\n",
              "    <tr style=\"text-align: right;\">\n",
              "      <th></th>\n",
              "      <th>maker</th>\n",
              "      <th>model</th>\n",
              "      <th>mileage</th>\n",
              "      <th>manufacture_year</th>\n",
              "      <th>engine_displacement</th>\n",
              "      <th>engine_power</th>\n",
              "      <th>body_type</th>\n",
              "      <th>color_slug</th>\n",
              "      <th>stk_year</th>\n",
              "      <th>transmission</th>\n",
              "      <th>door_count</th>\n",
              "      <th>seat_count</th>\n",
              "      <th>fuel_type</th>\n",
              "      <th>date_created</th>\n",
              "      <th>date_last_seen</th>\n",
              "      <th>price_eur</th>\n",
              "    </tr>\n",
              "  </thead>\n",
              "  <tbody>\n",
              "    <tr>\n",
              "      <th>0</th>\n",
              "      <td>ford</td>\n",
              "      <td>galaxy</td>\n",
              "      <td>151000.0</td>\n",
              "      <td>2011.0</td>\n",
              "      <td>2000.0</td>\n",
              "      <td>103.0</td>\n",
              "      <td>NaN</td>\n",
              "      <td>NaN</td>\n",
              "      <td>None</td>\n",
              "      <td>man</td>\n",
              "      <td>5</td>\n",
              "      <td>7</td>\n",
              "      <td>diesel</td>\n",
              "      <td>2015-11-14 18:10:06.838319+00</td>\n",
              "      <td>2016-01-27 20:40:15.46361+00</td>\n",
              "      <td>10584.75</td>\n",
              "    </tr>\n",
              "    <tr>\n",
              "      <th>1</th>\n",
              "      <td>skoda</td>\n",
              "      <td>octavia</td>\n",
              "      <td>143476.0</td>\n",
              "      <td>2012.0</td>\n",
              "      <td>2000.0</td>\n",
              "      <td>81.0</td>\n",
              "      <td>NaN</td>\n",
              "      <td>NaN</td>\n",
              "      <td>None</td>\n",
              "      <td>man</td>\n",
              "      <td>5</td>\n",
              "      <td>5</td>\n",
              "      <td>diesel</td>\n",
              "      <td>2015-11-14 18:10:06.853411+00</td>\n",
              "      <td>2016-01-27 20:40:15.46361+00</td>\n",
              "      <td>8882.31</td>\n",
              "    </tr>\n",
              "    <tr>\n",
              "      <th>2</th>\n",
              "      <td>bmw</td>\n",
              "      <td>NaN</td>\n",
              "      <td>97676.0</td>\n",
              "      <td>2010.0</td>\n",
              "      <td>1995.0</td>\n",
              "      <td>85.0</td>\n",
              "      <td>NaN</td>\n",
              "      <td>NaN</td>\n",
              "      <td>None</td>\n",
              "      <td>man</td>\n",
              "      <td>5</td>\n",
              "      <td>5</td>\n",
              "      <td>diesel</td>\n",
              "      <td>2015-11-14 18:10:06.861792+00</td>\n",
              "      <td>2016-01-27 20:40:15.46361+00</td>\n",
              "      <td>12065.06</td>\n",
              "    </tr>\n",
              "    <tr>\n",
              "      <th>3</th>\n",
              "      <td>skoda</td>\n",
              "      <td>fabia</td>\n",
              "      <td>111970.0</td>\n",
              "      <td>2004.0</td>\n",
              "      <td>1200.0</td>\n",
              "      <td>47.0</td>\n",
              "      <td>NaN</td>\n",
              "      <td>NaN</td>\n",
              "      <td>None</td>\n",
              "      <td>man</td>\n",
              "      <td>5</td>\n",
              "      <td>5</td>\n",
              "      <td>gasoline</td>\n",
              "      <td>2015-11-14 18:10:06.872313+00</td>\n",
              "      <td>2016-01-27 20:40:15.46361+00</td>\n",
              "      <td>2960.77</td>\n",
              "    </tr>\n",
              "    <tr>\n",
              "      <th>4</th>\n",
              "      <td>skoda</td>\n",
              "      <td>fabia</td>\n",
              "      <td>128886.0</td>\n",
              "      <td>2004.0</td>\n",
              "      <td>1200.0</td>\n",
              "      <td>47.0</td>\n",
              "      <td>NaN</td>\n",
              "      <td>NaN</td>\n",
              "      <td>None</td>\n",
              "      <td>man</td>\n",
              "      <td>5</td>\n",
              "      <td>5</td>\n",
              "      <td>gasoline</td>\n",
              "      <td>2015-11-14 18:10:06.880335+00</td>\n",
              "      <td>2016-01-27 20:40:15.46361+00</td>\n",
              "      <td>2738.71</td>\n",
              "    </tr>\n",
              "  </tbody>\n",
              "</table>\n",
              "</div>"
            ],
            "text/plain": [
              "   maker    model  ...                date_last_seen  price_eur\n",
              "0   ford   galaxy  ...  2016-01-27 20:40:15.46361+00   10584.75\n",
              "1  skoda  octavia  ...  2016-01-27 20:40:15.46361+00    8882.31\n",
              "2    bmw      NaN  ...  2016-01-27 20:40:15.46361+00   12065.06\n",
              "3  skoda    fabia  ...  2016-01-27 20:40:15.46361+00    2960.77\n",
              "4  skoda    fabia  ...  2016-01-27 20:40:15.46361+00    2738.71\n",
              "\n",
              "[5 rows x 16 columns]"
            ]
          },
          "metadata": {
            "tags": []
          },
          "execution_count": 4
        }
      ]
    },
    {
      "cell_type": "code",
      "metadata": {
        "id": "gl9JAnXMSTHj",
        "colab_type": "code",
        "outputId": "f8f12779-2974-4da3-e534-e13270bd341f",
        "colab": {
          "base_uri": "https://localhost:8080/",
          "height": 306
        }
      },
      "source": [
        "dataset.isna().sum()/ len(dataset) * 100 > 30\n"
      ],
      "execution_count": 5,
      "outputs": [
        {
          "output_type": "execute_result",
          "data": {
            "text/plain": [
              "maker                  False\n",
              "model                   True\n",
              "mileage                False\n",
              "manufacture_year       False\n",
              "engine_displacement    False\n",
              "engine_power           False\n",
              "body_type               True\n",
              "color_slug              True\n",
              "stk_year                True\n",
              "transmission           False\n",
              "door_count             False\n",
              "seat_count             False\n",
              "fuel_type               True\n",
              "date_created           False\n",
              "date_last_seen         False\n",
              "price_eur              False\n",
              "dtype: bool"
            ]
          },
          "metadata": {
            "tags": []
          },
          "execution_count": 5
        }
      ]
    },
    {
      "cell_type": "markdown",
      "metadata": {
        "id": "5MRn5csjSx0-",
        "colab_type": "text"
      },
      "source": [
        "#Dropping the columns with more than 30% null values"
      ]
    },
    {
      "cell_type": "code",
      "metadata": {
        "id": "hwqyssYkS7jg",
        "colab_type": "code",
        "colab": {}
      },
      "source": [
        "dataset = dataset.drop(['model', 'body_type', 'color_slug', 'stk_year', 'fuel_type'], axis = 1)"
      ],
      "execution_count": 0,
      "outputs": []
    },
    {
      "cell_type": "code",
      "metadata": {
        "id": "Ot-UO98NU7d9",
        "colab_type": "code",
        "outputId": "dbf07871-bf82-49c0-94fd-1ec3e0cfc589",
        "colab": {
          "base_uri": "https://localhost:8080/",
          "height": 323
        }
      },
      "source": [
        "dataset.info()"
      ],
      "execution_count": 7,
      "outputs": [
        {
          "output_type": "stream",
          "text": [
            "<class 'pandas.core.frame.DataFrame'>\n",
            "RangeIndex: 3552912 entries, 0 to 3552911\n",
            "Data columns (total 11 columns):\n",
            " #   Column               Dtype  \n",
            "---  ------               -----  \n",
            " 0   maker                object \n",
            " 1   mileage              float64\n",
            " 2   manufacture_year     float64\n",
            " 3   engine_displacement  float64\n",
            " 4   engine_power         float64\n",
            " 5   transmission         object \n",
            " 6   door_count           object \n",
            " 7   seat_count           object \n",
            " 8   date_created         object \n",
            " 9   date_last_seen       object \n",
            " 10  price_eur            float64\n",
            "dtypes: float64(5), object(6)\n",
            "memory usage: 298.2+ MB\n"
          ],
          "name": "stdout"
        }
      ]
    },
    {
      "cell_type": "markdown",
      "metadata": {
        "id": "Uit8kRsZVGnY",
        "colab_type": "text"
      },
      "source": [
        "#Converting the possible float values to float"
      ]
    },
    {
      "cell_type": "code",
      "metadata": {
        "id": "amkVAxO_VLUa",
        "colab_type": "code",
        "outputId": "0872ec61-ad2c-4823-f4e8-83743924cf92",
        "colab": {
          "base_uri": "https://localhost:8080/",
          "height": 102
        }
      },
      "source": [
        "dataset.door_count[dataset.door_count == 'None'] = np.nan"
      ],
      "execution_count": 8,
      "outputs": [
        {
          "output_type": "stream",
          "text": [
            "/usr/local/lib/python3.6/dist-packages/ipykernel_launcher.py:1: SettingWithCopyWarning: \n",
            "A value is trying to be set on a copy of a slice from a DataFrame\n",
            "\n",
            "See the caveats in the documentation: https://pandas.pydata.org/pandas-docs/stable/user_guide/indexing.html#returning-a-view-versus-a-copy\n",
            "  \"\"\"Entry point for launching an IPython kernel.\n"
          ],
          "name": "stderr"
        }
      ]
    },
    {
      "cell_type": "code",
      "metadata": {
        "id": "wVAv8rVWVey4",
        "colab_type": "code",
        "outputId": "b9e826bd-db45-4277-bee8-d32f59173cd1",
        "colab": {
          "base_uri": "https://localhost:8080/",
          "height": 102
        }
      },
      "source": [
        "dataset.seat_count[dataset.seat_count == 'None'] = np.nan"
      ],
      "execution_count": 9,
      "outputs": [
        {
          "output_type": "stream",
          "text": [
            "/usr/local/lib/python3.6/dist-packages/ipykernel_launcher.py:1: SettingWithCopyWarning: \n",
            "A value is trying to be set on a copy of a slice from a DataFrame\n",
            "\n",
            "See the caveats in the documentation: https://pandas.pydata.org/pandas-docs/stable/user_guide/indexing.html#returning-a-view-versus-a-copy\n",
            "  \"\"\"Entry point for launching an IPython kernel.\n"
          ],
          "name": "stderr"
        }
      ]
    },
    {
      "cell_type": "code",
      "metadata": {
        "id": "KPTo4-JqVk3b",
        "colab_type": "code",
        "colab": {}
      },
      "source": [
        "dataset.door_count = dataset.door_count.astype(float)\n",
        "dataset.seat_count = dataset.seat_count.astype(float)"
      ],
      "execution_count": 0,
      "outputs": []
    },
    {
      "cell_type": "code",
      "metadata": {
        "id": "n-q5iC4UV26m",
        "colab_type": "code",
        "outputId": "6aa30a9d-83e6-4833-8d35-f1cfd91be6f4",
        "colab": {
          "base_uri": "https://localhost:8080/",
          "height": 323
        }
      },
      "source": [
        "dataset.info()"
      ],
      "execution_count": 11,
      "outputs": [
        {
          "output_type": "stream",
          "text": [
            "<class 'pandas.core.frame.DataFrame'>\n",
            "RangeIndex: 3552912 entries, 0 to 3552911\n",
            "Data columns (total 11 columns):\n",
            " #   Column               Dtype  \n",
            "---  ------               -----  \n",
            " 0   maker                object \n",
            " 1   mileage              float64\n",
            " 2   manufacture_year     float64\n",
            " 3   engine_displacement  float64\n",
            " 4   engine_power         float64\n",
            " 5   transmission         object \n",
            " 6   door_count           float64\n",
            " 7   seat_count           float64\n",
            " 8   date_created         object \n",
            " 9   date_last_seen       object \n",
            " 10  price_eur            float64\n",
            "dtypes: float64(7), object(4)\n",
            "memory usage: 298.2+ MB\n"
          ],
          "name": "stdout"
        }
      ]
    },
    {
      "cell_type": "markdown",
      "metadata": {
        "id": "xVqycw14WZVc",
        "colab_type": "text"
      },
      "source": [
        "# Handling the date date values"
      ]
    },
    {
      "cell_type": "code",
      "metadata": {
        "id": "B_pcS-_3WVef",
        "colab_type": "code",
        "colab": {}
      },
      "source": [
        "dataset.date_last_seen = pd.to_datetime(dataset.date_last_seen)"
      ],
      "execution_count": 0,
      "outputs": []
    },
    {
      "cell_type": "code",
      "metadata": {
        "id": "_vEtnnegWta4",
        "colab_type": "code",
        "colab": {}
      },
      "source": [
        "dataset.date_created = pd.to_datetime(dataset.date_created)"
      ],
      "execution_count": 0,
      "outputs": []
    },
    {
      "cell_type": "markdown",
      "metadata": {
        "id": "2YCuqnmUCWTp",
        "colab_type": "text"
      },
      "source": [
        "## Adding new feature ads_duration using the date_created and date_last_seen"
      ]
    },
    {
      "cell_type": "code",
      "metadata": {
        "id": "97UvUVp-W7NT",
        "colab_type": "code",
        "colab": {}
      },
      "source": [
        "dataset['ads_duration'] = (dataset.date_last_seen - dataset.date_created)"
      ],
      "execution_count": 0,
      "outputs": []
    },
    {
      "cell_type": "code",
      "metadata": {
        "id": "unmwbB41XD7I",
        "colab_type": "code",
        "colab": {}
      },
      "source": [
        "dataset.ads_duration = (dataset.ads_duration / np.timedelta64(1, 'D')).astype(float)"
      ],
      "execution_count": 0,
      "outputs": []
    },
    {
      "cell_type": "code",
      "metadata": {
        "id": "ZXL_Ukj9a7SG",
        "colab_type": "code",
        "colab": {}
      },
      "source": [
        "dataset = dataset.drop(['date_created', 'date_last_seen'], axis=1)"
      ],
      "execution_count": 0,
      "outputs": []
    },
    {
      "cell_type": "markdown",
      "metadata": {
        "id": "sabXMPwwCg9g",
        "colab_type": "text"
      },
      "source": [
        "## Converting the manufacture_year from their manufactured year to years since they have been manufactured"
      ]
    },
    {
      "cell_type": "code",
      "metadata": {
        "id": "PDnXLkPKlNPY",
        "colab_type": "code",
        "colab": {}
      },
      "source": [
        "dataset['manufacture_year'] = 2020 - dataset.manufacture_year"
      ],
      "execution_count": 0,
      "outputs": []
    },
    {
      "cell_type": "code",
      "metadata": {
        "id": "EevaUAOyXGd_",
        "colab_type": "code",
        "outputId": "a89ed858-cb51-4587-918a-475524c6de91",
        "colab": {
          "base_uri": "https://localhost:8080/",
          "height": 306
        }
      },
      "source": [
        "dataset.info()"
      ],
      "execution_count": 18,
      "outputs": [
        {
          "output_type": "stream",
          "text": [
            "<class 'pandas.core.frame.DataFrame'>\n",
            "RangeIndex: 3552912 entries, 0 to 3552911\n",
            "Data columns (total 10 columns):\n",
            " #   Column               Dtype  \n",
            "---  ------               -----  \n",
            " 0   maker                object \n",
            " 1   mileage              float64\n",
            " 2   manufacture_year     float64\n",
            " 3   engine_displacement  float64\n",
            " 4   engine_power         float64\n",
            " 5   transmission         object \n",
            " 6   door_count           float64\n",
            " 7   seat_count           float64\n",
            " 8   price_eur            float64\n",
            " 9   ads_duration         float64\n",
            "dtypes: float64(8), object(2)\n",
            "memory usage: 271.1+ MB\n"
          ],
          "name": "stdout"
        }
      ]
    },
    {
      "cell_type": "code",
      "metadata": {
        "id": "8rNiuQi4a4OY",
        "colab_type": "code",
        "colab": {}
      },
      "source": [
        "dataset.ads_duration = dataset.ads_duration.apply(np.float)"
      ],
      "execution_count": 0,
      "outputs": []
    },
    {
      "cell_type": "markdown",
      "metadata": {
        "id": "jkpNF5d2gpOg",
        "colab_type": "text"
      },
      "source": [
        "# Outlier Detection and Removal for numerical values"
      ]
    },
    {
      "cell_type": "markdown",
      "metadata": {
        "id": "h42lEPs1gzGc",
        "colab_type": "text"
      },
      "source": [
        "## Outliers Detection and Trimming from Manufacture year Column using Interquartile Range"
      ]
    },
    {
      "cell_type": "code",
      "metadata": {
        "id": "raF6IcsxhAft",
        "colab_type": "code",
        "outputId": "7866005e-a840-46d9-ced1-d5794c783509",
        "colab": {
          "base_uri": "https://localhost:8080/",
          "height": 0
        }
      },
      "source": [
        "import seaborn as sns\n",
        "sns.boxplot(dataset['manufacture_year'], whis= 3)\n",
        "plt.xlim(0, 250)"
      ],
      "execution_count": 20,
      "outputs": [
        {
          "output_type": "stream",
          "text": [
            "/usr/local/lib/python3.6/dist-packages/statsmodels/tools/_testing.py:19: FutureWarning: pandas.util.testing is deprecated. Use the functions in the public API at pandas.testing instead.\n",
            "  import pandas.util.testing as tm\n"
          ],
          "name": "stderr"
        },
        {
          "output_type": "execute_result",
          "data": {
            "text/plain": [
              "(0.0, 250.0)"
            ]
          },
          "metadata": {
            "tags": []
          },
          "execution_count": 20
        },
        {
          "output_type": "display_data",
          "data": {
            "image/png": "[encoded data removed]",
            "text/plain": [
              "<Figure size 432x288 with 1 Axes>"
            ]
          },
          "metadata": {
            "tags": [],
            "needs_background": "light"
          }
        }
      ]
    },
    {
      "cell_type": "code",
      "metadata": {
        "id": "BE7QHokGhTqN",
        "colab_type": "code",
        "colab": {}
      },
      "source": [
        "def find_boundaries(df, variable, distance):\n",
        "  IQR = df[variable].quantile(0.75) - df[variable].quantile(0.25)\n",
        "  lower_boundary = df[variable].quantile(0.25) - (IQR *distance)\n",
        "  upper_boundary = df[variable].quantile(0.75) + (IQR * distance)\n",
        "  return upper_boundary, lower_boundary"
      ],
      "execution_count": 0,
      "outputs": []
    },
    {
      "cell_type": "code",
      "metadata": {
        "id": "xstB7lRHiQ9c",
        "colab_type": "code",
        "outputId": "89d924cf-dbdb-4d8e-d3e9-0fea00a67dac",
        "colab": {
          "base_uri": "https://localhost:8080/",
          "height": 0
        }
      },
      "source": [
        "m_upper, m_lower = find_boundaries(dataset, 'manufacture_year', 1.5)\n",
        "m_upper, m_lower"
      ],
      "execution_count": 22,
      "outputs": [
        {
          "output_type": "execute_result",
          "data": {
            "text/plain": [
              "(29.5, -6.5)"
            ]
          },
          "metadata": {
            "tags": []
          },
          "execution_count": 22
        }
      ]
    },
    {
      "cell_type": "code",
      "metadata": {
        "id": "TagNuvMVjyup",
        "colab_type": "code",
        "outputId": "4f644272-c2f0-4ce5-d02d-47dd9b5365ea",
        "colab": {
          "base_uri": "https://localhost:8080/",
          "height": 0
        }
      },
      "source": [
        "outliers_rm = np.where(dataset['manufacture_year'] > m_upper, True,\n",
        "                       np.where(dataset['manufacture_year']< m_lower, True, False))\n",
        "\n",
        "outliers_rm"
      ],
      "execution_count": 23,
      "outputs": [
        {
          "output_type": "execute_result",
          "data": {
            "text/plain": [
              "array([False, False, False, ..., False, False, False])"
            ]
          },
          "metadata": {
            "tags": []
          },
          "execution_count": 23
        }
      ]
    },
    {
      "cell_type": "code",
      "metadata": {
        "id": "FxppGIOQj5Zt",
        "colab_type": "code",
        "outputId": "dbebf349-d498-4751-cabf-f96509729603",
        "colab": {
          "base_uri": "https://localhost:8080/",
          "height": 0
        }
      },
      "source": [
        "dataset_trimmed = dataset.loc[~(outliers_rm)]\n",
        "dataset = dataset_trimmed\n",
        "sns.boxplot(dataset['manufacture_year'])\n",
        "plt.xlim(0,250)"
      ],
      "execution_count": 24,
      "outputs": [
        {
          "output_type": "execute_result",
          "data": {
            "text/plain": [
              "(0.0, 250.0)"
            ]
          },
          "metadata": {
            "tags": []
          },
          "execution_count": 24
        },
        {
          "output_type": "display_data",
          "data": {
            "image/png": "[encoded data removed]",
            "text/plain": [
              "<Figure size 432x288 with 1 Axes>"
            ]
          },
          "metadata": {
            "tags": [],
            "needs_background": "light"
          }
        }
      ]
    },
    {
      "cell_type": "markdown",
      "metadata": {
        "id": "QK0RKT3lkgWN",
        "colab_type": "text"
      },
      "source": [
        "## Outlier detection and winsorization for mileage column"
      ]
    },
    {
      "cell_type": "code",
      "metadata": {
        "id": "2EiLoOLrknRP",
        "colab_type": "code",
        "outputId": "53829947-680d-4c01-ee7f-2cb4206a8128",
        "colab": {
          "base_uri": "https://localhost:8080/",
          "height": 296
        }
      },
      "source": [
        "sns.boxplot(dataset['mileage'])"
      ],
      "execution_count": 25,
      "outputs": [
        {
          "output_type": "execute_result",
          "data": {
            "text/plain": [
              "<matplotlib.axes._subplots.AxesSubplot at 0x7fc135cb9a90>"
            ]
          },
          "metadata": {
            "tags": []
          },
          "execution_count": 25
        },
        {
          "output_type": "display_data",
          "data": {
            "image/png": "[encoded data removed]",
            "text/plain": [
              "<Figure size 432x288 with 1 Axes>"
            ]
          },
          "metadata": {
            "tags": [],
            "needs_background": "light"
          }
        }
      ]
    },
    {
      "cell_type": "code",
      "metadata": {
        "id": "9LPPkzB8lx9j",
        "colab_type": "code",
        "colab": {}
      },
      "source": [
        "def winsorize(df, variable, upper_limit, lower_limit):\n",
        "  return np.where(df[variable] > upper_limit,upper_limit,\n",
        "                  np.where(df[variable]< lower_limit, lower_limit,\n",
        "                           df[variable]))"
      ],
      "execution_count": 0,
      "outputs": []
    },
    {
      "cell_type": "code",
      "metadata": {
        "id": "ZbtjvghYl2cS",
        "colab_type": "code",
        "colab": {}
      },
      "source": [
        "dataset['mileage'] = winsorize(dataset, 'mileage', dataset['mileage'].quantile(0.95),\n",
        "                               dataset['mileage'].quantile(0.05))\n"
      ],
      "execution_count": 0,
      "outputs": []
    },
    {
      "cell_type": "code",
      "metadata": {
        "id": "GTGZhx6pl7kM",
        "colab_type": "code",
        "outputId": "c9ca9262-9068-4ad7-e07b-fce616afe5bf",
        "colab": {
          "base_uri": "https://localhost:8080/",
          "height": 296
        }
      },
      "source": [
        "sns.boxplot(dataset['mileage'])"
      ],
      "execution_count": 28,
      "outputs": [
        {
          "output_type": "execute_result",
          "data": {
            "text/plain": [
              "<matplotlib.axes._subplots.AxesSubplot at 0x7fc135c2d9e8>"
            ]
          },
          "metadata": {
            "tags": []
          },
          "execution_count": 28
        },
        {
          "output_type": "display_data",
          "data": {
            "image/png": "[encoded data removed]",
            "text/plain": [
              "<Figure size 432x288 with 1 Axes>"
            ]
          },
          "metadata": {
            "tags": [],
            "needs_background": "light"
          }
        }
      ]
    },
    {
      "cell_type": "markdown",
      "metadata": {
        "id": "DoKMGa9Zl_Gb",
        "colab_type": "text"
      },
      "source": [
        "## Outlier detection and winsorization for engine_displacement column"
      ]
    },
    {
      "cell_type": "code",
      "metadata": {
        "id": "WSS_ssVbmHfd",
        "colab_type": "code",
        "outputId": "c442722f-b115-4c81-cdce-b80351298b80",
        "colab": {
          "base_uri": "https://localhost:8080/",
          "height": 297
        }
      },
      "source": [
        "sns.boxplot(dataset['engine_displacement'])"
      ],
      "execution_count": 29,
      "outputs": [
        {
          "output_type": "execute_result",
          "data": {
            "text/plain": [
              "<matplotlib.axes._subplots.AxesSubplot at 0x7fc135b927b8>"
            ]
          },
          "metadata": {
            "tags": []
          },
          "execution_count": 29
        },
        {
          "output_type": "display_data",
          "data": {
            "image/png": "[encoded data removed]",
            "text/plain": [
              "<Figure size 432x288 with 1 Axes>"
            ]
          },
          "metadata": {
            "tags": [],
            "needs_background": "light"
          }
        }
      ]
    },
    {
      "cell_type": "code",
      "metadata": {
        "id": "yOAaPcgvme_f",
        "colab_type": "code",
        "colab": {}
      },
      "source": [
        "dataset['engine_displacement'] = winsorize(dataset, 'engine_displacement', dataset['engine_displacement'].quantile(0.95),\n",
        "                               dataset['engine_displacement'].quantile(0.05))"
      ],
      "execution_count": 0,
      "outputs": []
    },
    {
      "cell_type": "code",
      "metadata": {
        "id": "HdSsu9bRmudK",
        "colab_type": "code",
        "outputId": "c96f9dd0-55e3-449b-a345-8b181e26b5cf",
        "colab": {
          "base_uri": "https://localhost:8080/",
          "height": 297
        }
      },
      "source": [
        "sns.boxplot(dataset['engine_displacement'])"
      ],
      "execution_count": 31,
      "outputs": [
        {
          "output_type": "execute_result",
          "data": {
            "text/plain": [
              "<matplotlib.axes._subplots.AxesSubplot at 0x7fc135c229b0>"
            ]
          },
          "metadata": {
            "tags": []
          },
          "execution_count": 31
        },
        {
          "output_type": "display_data",
          "data": {
            "image/png": "[encoded data removed]",
            "text/plain": [
              "<Figure size 432x288 with 1 Axes>"
            ]
          },
          "metadata": {
            "tags": [],
            "needs_background": "light"
          }
        }
      ]
    },
    {
      "cell_type": "markdown",
      "metadata": {
        "id": "VYU3YvFTnCxi",
        "colab_type": "text"
      },
      "source": [
        "## Outlier detection and winsorization for engine_power column"
      ]
    },
    {
      "cell_type": "code",
      "metadata": {
        "id": "qUgT52BnnK_r",
        "colab_type": "code",
        "outputId": "ff57eb9b-2128-4251-9dd2-dc22ce1e6885",
        "colab": {
          "base_uri": "https://localhost:8080/",
          "height": 297
        }
      },
      "source": [
        "sns.boxplot(dataset['engine_power'])"
      ],
      "execution_count": 32,
      "outputs": [
        {
          "output_type": "execute_result",
          "data": {
            "text/plain": [
              "<matplotlib.axes._subplots.AxesSubplot at 0x7fc135ad3e48>"
            ]
          },
          "metadata": {
            "tags": []
          },
          "execution_count": 32
        },
        {
          "output_type": "display_data",
          "data": {
            "image/png": "[encoded data removed]",
            "text/plain": [
              "<Figure size 432x288 with 1 Axes>"
            ]
          },
          "metadata": {
            "tags": [],
            "needs_background": "light"
          }
        }
      ]
    },
    {
      "cell_type": "code",
      "metadata": {
        "id": "Pc1Ij5runRk_",
        "colab_type": "code",
        "colab": {}
      },
      "source": [
        "dataset['engine_power'] = winsorize(dataset, 'engine_power', dataset['engine_power'].quantile(0.95),\n",
        "                               dataset['engine_power'].quantile(0.05))"
      ],
      "execution_count": 0,
      "outputs": []
    },
    {
      "cell_type": "code",
      "metadata": {
        "id": "yQm89XbVnQCt",
        "colab_type": "code",
        "outputId": "d2714532-42a4-4911-f561-a7459cbe2412",
        "colab": {
          "base_uri": "https://localhost:8080/",
          "height": 297
        }
      },
      "source": [
        "sns.boxplot(dataset['engine_power'])"
      ],
      "execution_count": 34,
      "outputs": [
        {
          "output_type": "execute_result",
          "data": {
            "text/plain": [
              "<matplotlib.axes._subplots.AxesSubplot at 0x7fc135a46978>"
            ]
          },
          "metadata": {
            "tags": []
          },
          "execution_count": 34
        },
        {
          "output_type": "display_data",
          "data": {
            "image/png": "[encoded data removed]",
            "text/plain": [
              "<Figure size 432x288 with 1 Axes>"
            ]
          },
          "metadata": {
            "tags": [],
            "needs_background": "light"
          }
        }
      ]
    },
    {
      "cell_type": "markdown",
      "metadata": {
        "id": "aQMGe4b0ny8S",
        "colab_type": "text"
      },
      "source": [
        "## Outlier Detection and Trimming of door_count and seat_count"
      ]
    },
    {
      "cell_type": "code",
      "metadata": {
        "id": "BLeBrH7Lni3p",
        "colab_type": "code",
        "outputId": "b2bf799c-fee5-444c-cb25-6da1a11c539a",
        "colab": {
          "base_uri": "https://localhost:8080/",
          "height": 297
        }
      },
      "source": [
        "sns.boxplot(dataset['door_count'])"
      ],
      "execution_count": 35,
      "outputs": [
        {
          "output_type": "execute_result",
          "data": {
            "text/plain": [
              "<matplotlib.axes._subplots.AxesSubplot at 0x7fc135a289e8>"
            ]
          },
          "metadata": {
            "tags": []
          },
          "execution_count": 35
        },
        {
          "output_type": "display_data",
          "data": {
            "image/png": "[encoded data removed]",
            "text/plain": [
              "<Figure size 432x288 with 1 Axes>"
            ]
          },
          "metadata": {
            "tags": [],
            "needs_background": "light"
          }
        }
      ]
    },
    {
      "cell_type": "code",
      "metadata": {
        "id": "-iWsfonhoJmu",
        "colab_type": "code",
        "outputId": "6fa578b8-0c77-4134-abb7-ac7ce35dc4cd",
        "colab": {
          "base_uri": "https://localhost:8080/",
          "height": 297
        }
      },
      "source": [
        "sns.boxplot(dataset['seat_count'])"
      ],
      "execution_count": 36,
      "outputs": [
        {
          "output_type": "execute_result",
          "data": {
            "text/plain": [
              "<matplotlib.axes._subplots.AxesSubplot at 0x7fc13599b080>"
            ]
          },
          "metadata": {
            "tags": []
          },
          "execution_count": 36
        },
        {
          "output_type": "display_data",
          "data": {
            "image/png": "[encoded data removed]",
            "text/plain": [
              "<Figure size 432x288 with 1 Axes>"
            ]
          },
          "metadata": {
            "tags": [],
            "needs_background": "light"
          }
        }
      ]
    },
    {
      "cell_type": "code",
      "metadata": {
        "id": "yweR7nHpoPxD",
        "colab_type": "code",
        "colab": {}
      },
      "source": [
        "dataset['door_count'] = winsorize(dataset, 'door_count', dataset['door_count'].quantile(0.95),\n",
        "                               dataset['door_count'].quantile(0.05))\n",
        "dataset['seat_count'] = winsorize(dataset, 'seat_count', dataset['seat_count'].quantile(0.95),\n",
        "                               dataset['seat_count'].quantile(0.05))"
      ],
      "execution_count": 0,
      "outputs": []
    },
    {
      "cell_type": "code",
      "metadata": {
        "id": "6n7uuz1Fotvq",
        "colab_type": "code",
        "outputId": "5daeb57b-bf1f-4ef5-d8de-7899766a408d",
        "colab": {
          "base_uri": "https://localhost:8080/",
          "height": 297
        }
      },
      "source": [
        "sns.boxplot(dataset['door_count'])"
      ],
      "execution_count": 38,
      "outputs": [
        {
          "output_type": "execute_result",
          "data": {
            "text/plain": [
              "<matplotlib.axes._subplots.AxesSubplot at 0x7fc13599b6d8>"
            ]
          },
          "metadata": {
            "tags": []
          },
          "execution_count": 38
        },
        {
          "output_type": "display_data",
          "data": {
            "image/png": "[encoded data removed]",
            "text/plain": [
              "<Figure size 432x288 with 1 Axes>"
            ]
          },
          "metadata": {
            "tags": [],
            "needs_background": "light"
          }
        }
      ]
    },
    {
      "cell_type": "code",
      "metadata": {
        "id": "GpWhAGETo0Y5",
        "colab_type": "code",
        "outputId": "fa3bf755-1260-41e7-d337-9f4b0cba17df",
        "colab": {
          "base_uri": "https://localhost:8080/",
          "height": 297
        }
      },
      "source": [
        "sns.boxplot(dataset['seat_count'])"
      ],
      "execution_count": 39,
      "outputs": [
        {
          "output_type": "execute_result",
          "data": {
            "text/plain": [
              "<matplotlib.axes._subplots.AxesSubplot at 0x7fc1358dec18>"
            ]
          },
          "metadata": {
            "tags": []
          },
          "execution_count": 39
        },
        {
          "output_type": "display_data",
          "data": {
            "image/png": "[encoded data removed]",
            "text/plain": [
              "<Figure size 432x288 with 1 Axes>"
            ]
          },
          "metadata": {
            "tags": [],
            "needs_background": "light"
          }
        }
      ]
    },
    {
      "cell_type": "markdown",
      "metadata": {
        "id": "OFU3ncWipOZc",
        "colab_type": "text"
      },
      "source": [
        "##Outlier Detection for ads_duration column"
      ]
    },
    {
      "cell_type": "code",
      "metadata": {
        "id": "hdXJhNtZpASF",
        "colab_type": "code",
        "outputId": "0fc66966-0f18-4459-8b9f-47b20c49ca9a",
        "colab": {
          "base_uri": "https://localhost:8080/",
          "height": 297
        }
      },
      "source": [
        "sns.boxplot(dataset['ads_duration'])"
      ],
      "execution_count": 40,
      "outputs": [
        {
          "output_type": "execute_result",
          "data": {
            "text/plain": [
              "<matplotlib.axes._subplots.AxesSubplot at 0x7fc1358b1b70>"
            ]
          },
          "metadata": {
            "tags": []
          },
          "execution_count": 40
        },
        {
          "output_type": "display_data",
          "data": {
            "image/png": "[encoded data removed]",
            "text/plain": [
              "<Figure size 432x288 with 1 Axes>"
            ]
          },
          "metadata": {
            "tags": [],
            "needs_background": "light"
          }
        }
      ]
    },
    {
      "cell_type": "markdown",
      "metadata": {
        "id": "cXnUPV9ffweV",
        "colab_type": "text"
      },
      "source": [
        "# Imputing Categorical Values"
      ]
    },
    {
      "cell_type": "code",
      "metadata": {
        "id": "h2BK3zHFbFr-",
        "colab_type": "code",
        "outputId": "16e6a5f2-3e84-4f16-bc44-1f13cc4e0076",
        "colab": {
          "base_uri": "https://localhost:8080/",
          "height": 306
        }
      },
      "source": [
        "dataset.info(0)"
      ],
      "execution_count": 41,
      "outputs": [
        {
          "output_type": "stream",
          "text": [
            "<class 'pandas.core.frame.DataFrame'>\n",
            "Int64Index: 3475300 entries, 0 to 3552911\n",
            "Data columns (total 10 columns):\n",
            " #   Column               Dtype  \n",
            "---  ------               -----  \n",
            " 0   maker                object \n",
            " 1   mileage              float64\n",
            " 2   manufacture_year     float64\n",
            " 3   engine_displacement  float64\n",
            " 4   engine_power         float64\n",
            " 5   transmission         object \n",
            " 6   door_count           float64\n",
            " 7   seat_count           float64\n",
            " 8   price_eur            float64\n",
            " 9   ads_duration         float64\n",
            "dtypes: float64(8), object(2)\n",
            "memory usage: 291.7+ MB\n"
          ],
          "name": "stdout"
        }
      ]
    },
    {
      "cell_type": "code",
      "metadata": {
        "id": "f4tbM7Puc1eH",
        "colab_type": "code",
        "outputId": "d50a2fde-15dc-407b-e1e0-3761f880e1ce",
        "colab": {
          "base_uri": "https://localhost:8080/",
          "height": 510
        }
      },
      "source": [
        "dataset.maker= dataset.maker.astype(str)\n",
        "dataset.info()\n",
        "dataset.maker[dataset.maker == 'nan']"
      ],
      "execution_count": 42,
      "outputs": [
        {
          "output_type": "stream",
          "text": [
            "<class 'pandas.core.frame.DataFrame'>\n",
            "Int64Index: 3475300 entries, 0 to 3552911\n",
            "Data columns (total 10 columns):\n",
            " #   Column               Dtype  \n",
            "---  ------               -----  \n",
            " 0   maker                object \n",
            " 1   mileage              float64\n",
            " 2   manufacture_year     float64\n",
            " 3   engine_displacement  float64\n",
            " 4   engine_power         float64\n",
            " 5   transmission         object \n",
            " 6   door_count           float64\n",
            " 7   seat_count           float64\n",
            " 8   price_eur            float64\n",
            " 9   ads_duration         float64\n",
            "dtypes: float64(8), object(2)\n",
            "memory usage: 291.7+ MB\n"
          ],
          "name": "stdout"
        },
        {
          "output_type": "execute_result",
          "data": {
            "text/plain": [
              "9          nan\n",
              "10         nan\n",
              "11         nan\n",
              "12         nan\n",
              "16         nan\n",
              "          ... \n",
              "3551860    nan\n",
              "3551861    nan\n",
              "3551863    nan\n",
              "3552082    nan\n",
              "3552084    nan\n",
              "Name: maker, Length: 498805, dtype: object"
            ]
          },
          "metadata": {
            "tags": []
          },
          "execution_count": 42
        }
      ]
    },
    {
      "cell_type": "code",
      "metadata": {
        "id": "rf-T-2aVjRgg",
        "colab_type": "code",
        "outputId": "5dbd4f9c-ce50-4cfc-dd7a-2fbed69094d1",
        "colab": {
          "base_uri": "https://localhost:8080/",
          "height": 51
        }
      },
      "source": [
        "dataset.maker.mode()"
      ],
      "execution_count": 43,
      "outputs": [
        {
          "output_type": "execute_result",
          "data": {
            "text/plain": [
              "0    nan\n",
              "dtype: object"
            ]
          },
          "metadata": {
            "tags": []
          },
          "execution_count": 43
        }
      ]
    },
    {
      "cell_type": "code",
      "metadata": {
        "id": "BF_fAH5Dc7Ay",
        "colab_type": "code",
        "outputId": "f11c1517-ec40-4ab0-e4a2-6f796c62c6c9",
        "colab": {
          "base_uri": "https://localhost:8080/",
          "height": 102
        }
      },
      "source": [
        "dataset['maker'][dataset.maker == 'nan'] = 'skoda'"
      ],
      "execution_count": 44,
      "outputs": [
        {
          "output_type": "stream",
          "text": [
            "/usr/local/lib/python3.6/dist-packages/ipykernel_launcher.py:1: SettingWithCopyWarning: \n",
            "A value is trying to be set on a copy of a slice from a DataFrame\n",
            "\n",
            "See the caveats in the documentation: https://pandas.pydata.org/pandas-docs/stable/user_guide/indexing.html#returning-a-view-versus-a-copy\n",
            "  \"\"\"Entry point for launching an IPython kernel.\n"
          ],
          "name": "stderr"
        }
      ]
    },
    {
      "cell_type": "code",
      "metadata": {
        "id": "czxcLgFPvyav",
        "colab_type": "code",
        "outputId": "3c2a225e-4c66-4b6a-d8d3-46fb752ab467",
        "colab": {
          "base_uri": "https://localhost:8080/",
          "height": 306
        }
      },
      "source": [
        "dataset.info()"
      ],
      "execution_count": 45,
      "outputs": [
        {
          "output_type": "stream",
          "text": [
            "<class 'pandas.core.frame.DataFrame'>\n",
            "Int64Index: 3475300 entries, 0 to 3552911\n",
            "Data columns (total 10 columns):\n",
            " #   Column               Dtype  \n",
            "---  ------               -----  \n",
            " 0   maker                object \n",
            " 1   mileage              float64\n",
            " 2   manufacture_year     float64\n",
            " 3   engine_displacement  float64\n",
            " 4   engine_power         float64\n",
            " 5   transmission         object \n",
            " 6   door_count           float64\n",
            " 7   seat_count           float64\n",
            " 8   price_eur            float64\n",
            " 9   ads_duration         float64\n",
            "dtypes: float64(8), object(2)\n",
            "memory usage: 291.7+ MB\n"
          ],
          "name": "stdout"
        }
      ]
    },
    {
      "cell_type": "code",
      "metadata": {
        "id": "Tu637Gz1fCFX",
        "colab_type": "code",
        "colab": {}
      },
      "source": [
        "dataset['transmission'] = dataset.transmission.astype(str)"
      ],
      "execution_count": 0,
      "outputs": []
    },
    {
      "cell_type": "code",
      "metadata": {
        "id": "9fX8oX1Hf-mc",
        "colab_type": "code",
        "outputId": "d13bcc73-cce1-4425-bdaa-f4ee0886f498",
        "colab": {
          "base_uri": "https://localhost:8080/",
          "height": 51
        }
      },
      "source": [
        "dataset.transmission.mode()"
      ],
      "execution_count": 47,
      "outputs": [
        {
          "output_type": "execute_result",
          "data": {
            "text/plain": [
              "0    man\n",
              "dtype: object"
            ]
          },
          "metadata": {
            "tags": []
          },
          "execution_count": 47
        }
      ]
    },
    {
      "cell_type": "code",
      "metadata": {
        "id": "zij7ptXOgCCK",
        "colab_type": "code",
        "outputId": "092b5c81-e4e3-41c4-cd3d-83a20f12a781",
        "colab": {
          "base_uri": "https://localhost:8080/",
          "height": 102
        }
      },
      "source": [
        "dataset['transmission'][dataset.transmission == 'nan'] = 'man'"
      ],
      "execution_count": 48,
      "outputs": [
        {
          "output_type": "stream",
          "text": [
            "/usr/local/lib/python3.6/dist-packages/ipykernel_launcher.py:1: SettingWithCopyWarning: \n",
            "A value is trying to be set on a copy of a slice from a DataFrame\n",
            "\n",
            "See the caveats in the documentation: https://pandas.pydata.org/pandas-docs/stable/user_guide/indexing.html#returning-a-view-versus-a-copy\n",
            "  \"\"\"Entry point for launching an IPython kernel.\n"
          ],
          "name": "stderr"
        }
      ]
    },
    {
      "cell_type": "code",
      "metadata": {
        "id": "_kiD05YHgQ5U",
        "colab_type": "code",
        "outputId": "d790f434-33b5-4574-82f2-e2c667ddb8a6",
        "colab": {
          "base_uri": "https://localhost:8080/",
          "height": 306
        }
      },
      "source": [
        "dataset.info()"
      ],
      "execution_count": 49,
      "outputs": [
        {
          "output_type": "stream",
          "text": [
            "<class 'pandas.core.frame.DataFrame'>\n",
            "Int64Index: 3475300 entries, 0 to 3552911\n",
            "Data columns (total 10 columns):\n",
            " #   Column               Dtype  \n",
            "---  ------               -----  \n",
            " 0   maker                object \n",
            " 1   mileage              float64\n",
            " 2   manufacture_year     float64\n",
            " 3   engine_displacement  float64\n",
            " 4   engine_power         float64\n",
            " 5   transmission         object \n",
            " 6   door_count           float64\n",
            " 7   seat_count           float64\n",
            " 8   price_eur            float64\n",
            " 9   ads_duration         float64\n",
            "dtypes: float64(8), object(2)\n",
            "memory usage: 291.7+ MB\n"
          ],
          "name": "stdout"
        }
      ]
    },
    {
      "cell_type": "code",
      "metadata": {
        "id": "hzP4Ndaalz82",
        "colab_type": "code",
        "colab": {}
      },
      "source": [
        ""
      ],
      "execution_count": 0,
      "outputs": []
    },
    {
      "cell_type": "markdown",
      "metadata": {
        "id": "889dq-f1rIl5",
        "colab_type": "text"
      },
      "source": [
        "# Encoding Categorical values "
      ]
    },
    {
      "cell_type": "code",
      "metadata": {
        "id": "3vCP-EUWqqIO",
        "colab_type": "code",
        "colab": {}
      },
      "source": [
        "from sklearn.preprocessing import LabelEncoder, OneHotEncoder\n",
        "\n",
        "label_enc = LabelEncoder()\n",
        "\n",
        "dataset['maker'] = label_enc.fit_transform(dataset['maker'])\n",
        "dataset['transmission'] = label_enc.fit_transform(dataset['transmission'])\n",
        "\n"
      ],
      "execution_count": 0,
      "outputs": []
    },
    {
      "cell_type": "code",
      "metadata": {
        "id": "wgyr-rE5mqRW",
        "colab_type": "code",
        "colab": {}
      },
      "source": [
        "from sklearn.compose import ColumnTransformer\n",
        "\n",
        "ct = ColumnTransformer(\n",
        "    [('one_hot_encoder', OneHotEncoder(categories='auto'),[0])],   # The column numbers to be transformed (here is [0] but can be [0, 1, 3])\n",
        "    remainder='passthrough'                                         # Leave the rest of the columns untouched\n",
        ")\n",
        "\n",
        "# onehot_enc = OneHotEncoder(['maker', 'transmission'])\n",
        "dataset = pd.DataFrame.sparse.from_spmatrix(ct.fit_transform(dataset))"
      ],
      "execution_count": 0,
      "outputs": []
    },
    {
      "cell_type": "code",
      "metadata": {
        "id": "ZJfa-KZe3X3B",
        "colab_type": "code",
        "outputId": "e429dedb-10f4-4b2e-d7d6-7a99bfa566a6",
        "colab": {
          "base_uri": "https://localhost:8080/",
          "height": 224
        }
      },
      "source": [
        "dataset.head()"
      ],
      "execution_count": 52,
      "outputs": [
        {
          "output_type": "execute_result",
          "data": {
            "text/html": [
              "<div>\n",
              "<style scoped>\n",
              "    .dataframe tbody tr th:only-of-type {\n",
              "        vertical-align: middle;\n",
              "    }\n",
              "\n",
              "    .dataframe tbody tr th {\n",
              "        vertical-align: top;\n",
              "    }\n",
              "\n",
              "    .dataframe thead th {\n",
              "        text-align: right;\n",
              "    }\n",
              "</style>\n",
              "<table border=\"1\" class=\"dataframe\">\n",
              "  <thead>\n",
              "    <tr style=\"text-align: right;\">\n",
              "      <th></th>\n",
              "      <th>0</th>\n",
              "      <th>1</th>\n",
              "      <th>2</th>\n",
              "      <th>3</th>\n",
              "      <th>4</th>\n",
              "      <th>5</th>\n",
              "      <th>6</th>\n",
              "      <th>7</th>\n",
              "      <th>8</th>\n",
              "      <th>9</th>\n",
              "      <th>10</th>\n",
              "      <th>11</th>\n",
              "      <th>12</th>\n",
              "      <th>13</th>\n",
              "      <th>14</th>\n",
              "      <th>15</th>\n",
              "      <th>16</th>\n",
              "      <th>17</th>\n",
              "      <th>18</th>\n",
              "      <th>19</th>\n",
              "      <th>20</th>\n",
              "      <th>21</th>\n",
              "      <th>22</th>\n",
              "      <th>23</th>\n",
              "      <th>24</th>\n",
              "      <th>25</th>\n",
              "      <th>26</th>\n",
              "      <th>27</th>\n",
              "      <th>28</th>\n",
              "      <th>29</th>\n",
              "      <th>30</th>\n",
              "      <th>31</th>\n",
              "      <th>32</th>\n",
              "      <th>33</th>\n",
              "      <th>34</th>\n",
              "      <th>35</th>\n",
              "      <th>36</th>\n",
              "      <th>37</th>\n",
              "      <th>38</th>\n",
              "      <th>39</th>\n",
              "      <th>40</th>\n",
              "      <th>41</th>\n",
              "      <th>42</th>\n",
              "      <th>43</th>\n",
              "      <th>44</th>\n",
              "      <th>45</th>\n",
              "      <th>46</th>\n",
              "      <th>47</th>\n",
              "      <th>48</th>\n",
              "      <th>49</th>\n",
              "      <th>50</th>\n",
              "      <th>51</th>\n",
              "      <th>52</th>\n",
              "      <th>53</th>\n",
              "      <th>54</th>\n",
              "    </tr>\n",
              "  </thead>\n",
              "  <tbody>\n",
              "    <tr>\n",
              "      <th>0</th>\n",
              "      <td>0.0</td>\n",
              "      <td>0.0</td>\n",
              "      <td>0.0</td>\n",
              "      <td>0.0</td>\n",
              "      <td>0.0</td>\n",
              "      <td>0.0</td>\n",
              "      <td>0.0</td>\n",
              "      <td>0.0</td>\n",
              "      <td>0.0</td>\n",
              "      <td>0.0</td>\n",
              "      <td>0.0</td>\n",
              "      <td>1.0</td>\n",
              "      <td>0.0</td>\n",
              "      <td>0.0</td>\n",
              "      <td>0.0</td>\n",
              "      <td>0.0</td>\n",
              "      <td>0.0</td>\n",
              "      <td>0.0</td>\n",
              "      <td>0.0</td>\n",
              "      <td>0.0</td>\n",
              "      <td>0.0</td>\n",
              "      <td>0.0</td>\n",
              "      <td>0.0</td>\n",
              "      <td>0.0</td>\n",
              "      <td>0.0</td>\n",
              "      <td>0.0</td>\n",
              "      <td>0.0</td>\n",
              "      <td>0.0</td>\n",
              "      <td>0.0</td>\n",
              "      <td>0.0</td>\n",
              "      <td>0.0</td>\n",
              "      <td>0.0</td>\n",
              "      <td>0.0</td>\n",
              "      <td>0.0</td>\n",
              "      <td>0.0</td>\n",
              "      <td>0.0</td>\n",
              "      <td>0.0</td>\n",
              "      <td>0.0</td>\n",
              "      <td>0.0</td>\n",
              "      <td>0.0</td>\n",
              "      <td>0.0</td>\n",
              "      <td>0.0</td>\n",
              "      <td>0.0</td>\n",
              "      <td>0.0</td>\n",
              "      <td>0.0</td>\n",
              "      <td>0.0</td>\n",
              "      <td>151000.0</td>\n",
              "      <td>9.0</td>\n",
              "      <td>2000.0</td>\n",
              "      <td>103.0</td>\n",
              "      <td>1.0</td>\n",
              "      <td>5.0</td>\n",
              "      <td>7.0</td>\n",
              "      <td>10584.75</td>\n",
              "      <td>74.104266</td>\n",
              "    </tr>\n",
              "    <tr>\n",
              "      <th>1</th>\n",
              "      <td>0.0</td>\n",
              "      <td>0.0</td>\n",
              "      <td>0.0</td>\n",
              "      <td>0.0</td>\n",
              "      <td>0.0</td>\n",
              "      <td>0.0</td>\n",
              "      <td>0.0</td>\n",
              "      <td>0.0</td>\n",
              "      <td>0.0</td>\n",
              "      <td>0.0</td>\n",
              "      <td>0.0</td>\n",
              "      <td>0.0</td>\n",
              "      <td>0.0</td>\n",
              "      <td>0.0</td>\n",
              "      <td>0.0</td>\n",
              "      <td>0.0</td>\n",
              "      <td>0.0</td>\n",
              "      <td>0.0</td>\n",
              "      <td>0.0</td>\n",
              "      <td>0.0</td>\n",
              "      <td>0.0</td>\n",
              "      <td>0.0</td>\n",
              "      <td>0.0</td>\n",
              "      <td>0.0</td>\n",
              "      <td>0.0</td>\n",
              "      <td>0.0</td>\n",
              "      <td>0.0</td>\n",
              "      <td>0.0</td>\n",
              "      <td>0.0</td>\n",
              "      <td>0.0</td>\n",
              "      <td>0.0</td>\n",
              "      <td>0.0</td>\n",
              "      <td>0.0</td>\n",
              "      <td>0.0</td>\n",
              "      <td>0.0</td>\n",
              "      <td>0.0</td>\n",
              "      <td>0.0</td>\n",
              "      <td>0.0</td>\n",
              "      <td>1.0</td>\n",
              "      <td>0.0</td>\n",
              "      <td>0.0</td>\n",
              "      <td>0.0</td>\n",
              "      <td>0.0</td>\n",
              "      <td>0.0</td>\n",
              "      <td>0.0</td>\n",
              "      <td>0.0</td>\n",
              "      <td>143476.0</td>\n",
              "      <td>8.0</td>\n",
              "      <td>2000.0</td>\n",
              "      <td>81.0</td>\n",
              "      <td>1.0</td>\n",
              "      <td>5.0</td>\n",
              "      <td>5.0</td>\n",
              "      <td>8882.31</td>\n",
              "      <td>74.104266</td>\n",
              "    </tr>\n",
              "    <tr>\n",
              "      <th>2</th>\n",
              "      <td>0.0</td>\n",
              "      <td>0.0</td>\n",
              "      <td>0.0</td>\n",
              "      <td>0.0</td>\n",
              "      <td>1.0</td>\n",
              "      <td>0.0</td>\n",
              "      <td>0.0</td>\n",
              "      <td>0.0</td>\n",
              "      <td>0.0</td>\n",
              "      <td>0.0</td>\n",
              "      <td>0.0</td>\n",
              "      <td>0.0</td>\n",
              "      <td>0.0</td>\n",
              "      <td>0.0</td>\n",
              "      <td>0.0</td>\n",
              "      <td>0.0</td>\n",
              "      <td>0.0</td>\n",
              "      <td>0.0</td>\n",
              "      <td>0.0</td>\n",
              "      <td>0.0</td>\n",
              "      <td>0.0</td>\n",
              "      <td>0.0</td>\n",
              "      <td>0.0</td>\n",
              "      <td>0.0</td>\n",
              "      <td>0.0</td>\n",
              "      <td>0.0</td>\n",
              "      <td>0.0</td>\n",
              "      <td>0.0</td>\n",
              "      <td>0.0</td>\n",
              "      <td>0.0</td>\n",
              "      <td>0.0</td>\n",
              "      <td>0.0</td>\n",
              "      <td>0.0</td>\n",
              "      <td>0.0</td>\n",
              "      <td>0.0</td>\n",
              "      <td>0.0</td>\n",
              "      <td>0.0</td>\n",
              "      <td>0.0</td>\n",
              "      <td>0.0</td>\n",
              "      <td>0.0</td>\n",
              "      <td>0.0</td>\n",
              "      <td>0.0</td>\n",
              "      <td>0.0</td>\n",
              "      <td>0.0</td>\n",
              "      <td>0.0</td>\n",
              "      <td>0.0</td>\n",
              "      <td>97676.0</td>\n",
              "      <td>10.0</td>\n",
              "      <td>1995.0</td>\n",
              "      <td>85.0</td>\n",
              "      <td>1.0</td>\n",
              "      <td>5.0</td>\n",
              "      <td>5.0</td>\n",
              "      <td>12065.06</td>\n",
              "      <td>74.104266</td>\n",
              "    </tr>\n",
              "    <tr>\n",
              "      <th>3</th>\n",
              "      <td>0.0</td>\n",
              "      <td>0.0</td>\n",
              "      <td>0.0</td>\n",
              "      <td>0.0</td>\n",
              "      <td>0.0</td>\n",
              "      <td>0.0</td>\n",
              "      <td>0.0</td>\n",
              "      <td>0.0</td>\n",
              "      <td>0.0</td>\n",
              "      <td>0.0</td>\n",
              "      <td>0.0</td>\n",
              "      <td>0.0</td>\n",
              "      <td>0.0</td>\n",
              "      <td>0.0</td>\n",
              "      <td>0.0</td>\n",
              "      <td>0.0</td>\n",
              "      <td>0.0</td>\n",
              "      <td>0.0</td>\n",
              "      <td>0.0</td>\n",
              "      <td>0.0</td>\n",
              "      <td>0.0</td>\n",
              "      <td>0.0</td>\n",
              "      <td>0.0</td>\n",
              "      <td>0.0</td>\n",
              "      <td>0.0</td>\n",
              "      <td>0.0</td>\n",
              "      <td>0.0</td>\n",
              "      <td>0.0</td>\n",
              "      <td>0.0</td>\n",
              "      <td>0.0</td>\n",
              "      <td>0.0</td>\n",
              "      <td>0.0</td>\n",
              "      <td>0.0</td>\n",
              "      <td>0.0</td>\n",
              "      <td>0.0</td>\n",
              "      <td>0.0</td>\n",
              "      <td>0.0</td>\n",
              "      <td>0.0</td>\n",
              "      <td>1.0</td>\n",
              "      <td>0.0</td>\n",
              "      <td>0.0</td>\n",
              "      <td>0.0</td>\n",
              "      <td>0.0</td>\n",
              "      <td>0.0</td>\n",
              "      <td>0.0</td>\n",
              "      <td>0.0</td>\n",
              "      <td>111970.0</td>\n",
              "      <td>16.0</td>\n",
              "      <td>1200.0</td>\n",
              "      <td>48.0</td>\n",
              "      <td>1.0</td>\n",
              "      <td>5.0</td>\n",
              "      <td>5.0</td>\n",
              "      <td>2960.77</td>\n",
              "      <td>74.104266</td>\n",
              "    </tr>\n",
              "    <tr>\n",
              "      <th>4</th>\n",
              "      <td>0.0</td>\n",
              "      <td>0.0</td>\n",
              "      <td>0.0</td>\n",
              "      <td>0.0</td>\n",
              "      <td>0.0</td>\n",
              "      <td>0.0</td>\n",
              "      <td>0.0</td>\n",
              "      <td>0.0</td>\n",
              "      <td>0.0</td>\n",
              "      <td>0.0</td>\n",
              "      <td>0.0</td>\n",
              "      <td>0.0</td>\n",
              "      <td>0.0</td>\n",
              "      <td>0.0</td>\n",
              "      <td>0.0</td>\n",
              "      <td>0.0</td>\n",
              "      <td>0.0</td>\n",
              "      <td>0.0</td>\n",
              "      <td>0.0</td>\n",
              "      <td>0.0</td>\n",
              "      <td>0.0</td>\n",
              "      <td>0.0</td>\n",
              "      <td>0.0</td>\n",
              "      <td>0.0</td>\n",
              "      <td>0.0</td>\n",
              "      <td>0.0</td>\n",
              "      <td>0.0</td>\n",
              "      <td>0.0</td>\n",
              "      <td>0.0</td>\n",
              "      <td>0.0</td>\n",
              "      <td>0.0</td>\n",
              "      <td>0.0</td>\n",
              "      <td>0.0</td>\n",
              "      <td>0.0</td>\n",
              "      <td>0.0</td>\n",
              "      <td>0.0</td>\n",
              "      <td>0.0</td>\n",
              "      <td>0.0</td>\n",
              "      <td>1.0</td>\n",
              "      <td>0.0</td>\n",
              "      <td>0.0</td>\n",
              "      <td>0.0</td>\n",
              "      <td>0.0</td>\n",
              "      <td>0.0</td>\n",
              "      <td>0.0</td>\n",
              "      <td>0.0</td>\n",
              "      <td>128886.0</td>\n",
              "      <td>16.0</td>\n",
              "      <td>1200.0</td>\n",
              "      <td>48.0</td>\n",
              "      <td>1.0</td>\n",
              "      <td>5.0</td>\n",
              "      <td>5.0</td>\n",
              "      <td>2738.71</td>\n",
              "      <td>74.104266</td>\n",
              "    </tr>\n",
              "  </tbody>\n",
              "</table>\n",
              "</div>"
            ],
            "text/plain": [
              "    0    1    2    3    4    5   ...     49   50   51   52        53         54\n",
              "0  0.0  0.0  0.0  0.0  0.0  0.0  ...  103.0  1.0  5.0  7.0  10584.75  74.104266\n",
              "1  0.0  0.0  0.0  0.0  0.0  0.0  ...   81.0  1.0  5.0  5.0   8882.31  74.104266\n",
              "2  0.0  0.0  0.0  0.0  1.0  0.0  ...   85.0  1.0  5.0  5.0  12065.06  74.104266\n",
              "3  0.0  0.0  0.0  0.0  0.0  0.0  ...   48.0  1.0  5.0  5.0   2960.77  74.104266\n",
              "4  0.0  0.0  0.0  0.0  0.0  0.0  ...   48.0  1.0  5.0  5.0   2738.71  74.104266\n",
              "\n",
              "[5 rows x 55 columns]"
            ]
          },
          "metadata": {
            "tags": []
          },
          "execution_count": 52
        }
      ]
    },
    {
      "cell_type": "markdown",
      "metadata": {
        "id": "EYb8pg1yjdc2",
        "colab_type": "text"
      },
      "source": [
        "# Imputing Numerical values"
      ]
    },
    {
      "cell_type": "code",
      "metadata": {
        "id": "rxHDK_7e_6Ff",
        "colab_type": "code",
        "outputId": "5bfeaadd-5bc2-4334-d297-d90262876a96",
        "colab": {
          "base_uri": "https://localhost:8080/",
          "height": 1000
        }
      },
      "source": [
        "dataset_num = dataset.drop(range(0,46), axis = 1)\n",
        "dataset_num.hist(figsize=(16, 20), bins=60, xlabelsize=8, ylabelsize=8); # ; avoid having the matplotlib verbose informations\n"
      ],
      "execution_count": 53,
      "outputs": [
        {
          "output_type": "display_data",
          "data": {
            "image/png": "[encoded data removed]",
            "text/plain": [
              "<Figure size 1152x1440 with 9 Axes>"
            ]
          },
          "metadata": {
            "tags": [],
            "needs_background": "light"
          }
        }
      ]
    },
    {
      "cell_type": "markdown",
      "metadata": {
        "id": "osnHJUV9BvCk",
        "colab_type": "text"
      },
      "source": [
        "Since none of the features seem to follow normal distribution, we will use median to impute the data instead of mean."
      ]
    },
    {
      "cell_type": "code",
      "metadata": {
        "id": "RKfUuV7khyY5",
        "colab_type": "code",
        "colab": {}
      },
      "source": [
        "from sklearn.impute import SimpleImputer\n",
        "columns = dataset.columns\n",
        "imputer = SimpleImputer(strategy='median')\n",
        "dataset = imputer.fit_transform(dataset)"
      ],
      "execution_count": 0,
      "outputs": []
    },
    {
      "cell_type": "code",
      "metadata": {
        "id": "ID2JaAjKkZK3",
        "colab_type": "code",
        "colab": {}
      },
      "source": [
        "dataset = pd.DataFrame(dataset)"
      ],
      "execution_count": 0,
      "outputs": []
    },
    {
      "cell_type": "code",
      "metadata": {
        "id": "K158WP8ekiWU",
        "colab_type": "code",
        "outputId": "24ce048d-f300-47df-9b4c-578d99906d6b",
        "colab": {
          "base_uri": "https://localhost:8080/",
          "height": 969
        }
      },
      "source": [
        "dataset.isnull().any()"
      ],
      "execution_count": 56,
      "outputs": [
        {
          "output_type": "execute_result",
          "data": {
            "text/plain": [
              "0     False\n",
              "1     False\n",
              "2     False\n",
              "3     False\n",
              "4     False\n",
              "5     False\n",
              "6     False\n",
              "7     False\n",
              "8     False\n",
              "9     False\n",
              "10    False\n",
              "11    False\n",
              "12    False\n",
              "13    False\n",
              "14    False\n",
              "15    False\n",
              "16    False\n",
              "17    False\n",
              "18    False\n",
              "19    False\n",
              "20    False\n",
              "21    False\n",
              "22    False\n",
              "23    False\n",
              "24    False\n",
              "25    False\n",
              "26    False\n",
              "27    False\n",
              "28    False\n",
              "29    False\n",
              "30    False\n",
              "31    False\n",
              "32    False\n",
              "33    False\n",
              "34    False\n",
              "35    False\n",
              "36    False\n",
              "37    False\n",
              "38    False\n",
              "39    False\n",
              "40    False\n",
              "41    False\n",
              "42    False\n",
              "43    False\n",
              "44    False\n",
              "45    False\n",
              "46    False\n",
              "47    False\n",
              "48    False\n",
              "49    False\n",
              "50    False\n",
              "51    False\n",
              "52    False\n",
              "53    False\n",
              "54    False\n",
              "dtype: bool"
            ]
          },
          "metadata": {
            "tags": []
          },
          "execution_count": 56
        }
      ]
    },
    {
      "cell_type": "code",
      "metadata": {
        "id": "m6WUiQ-6F_NJ",
        "colab_type": "code",
        "colab": {}
      },
      "source": [
        ""
      ],
      "execution_count": 0,
      "outputs": []
    },
    {
      "cell_type": "code",
      "metadata": {
        "id": "hB2Z0xmj7Duq",
        "colab_type": "code",
        "colab": {}
      },
      "source": [
        "dataset[53] = np.log(dataset[53])"
      ],
      "execution_count": 0,
      "outputs": []
    },
    {
      "cell_type": "markdown",
      "metadata": {
        "id": "SC8Zntwx9jHW",
        "colab_type": "text"
      },
      "source": [
        "# Visualizing Variable Correlation "
      ]
    },
    {
      "cell_type": "code",
      "metadata": {
        "id": "6-hkG9ygDvSC",
        "colab_type": "code",
        "outputId": "be6eb467-e738-4366-ec87-fc6bc853662c",
        "colab": {
          "base_uri": "https://localhost:8080/",
          "height": 204
        }
      },
      "source": [
        "dataset.corr()[53][45:]"
      ],
      "execution_count": 58,
      "outputs": [
        {
          "output_type": "execute_result",
          "data": {
            "text/plain": [
              "45    0.025040\n",
              "46   -0.452595\n",
              "47   -0.532419\n",
              "48    0.121616\n",
              "49    0.351507\n",
              "50   -0.324499\n",
              "51   -0.027380\n",
              "52   -0.014943\n",
              "53    1.000000\n",
              "54    0.334016\n",
              "Name: 53, dtype: float64"
            ]
          },
          "metadata": {
            "tags": []
          },
          "execution_count": 58
        }
      ]
    },
    {
      "cell_type": "code",
      "metadata": {
        "id": "nnE3idLR9pBS",
        "colab_type": "code",
        "outputId": "f8c06784-2db6-46f0-e41f-edb472e9bda7",
        "colab": {
          "base_uri": "https://localhost:8080/",
          "height": 592
        }
      },
      "source": [
        "corr = dataset.drop(range(0,46), axis=1).corr() # We already examined SalePrice correlations\n",
        "plt.figure(figsize=(12, 10))\n",
        "\n",
        "sns.heatmap(corr[(corr >= 0.1) | (corr <= -0.1)], \n",
        "            cmap='viridis', vmax=1.0, vmin=-1.0, linewidths=0.1,\n",
        "            annot=True, annot_kws={\"size\": 8}, square=True);"
      ],
      "execution_count": 59,
      "outputs": [
        {
          "output_type": "display_data",
          "data": {
            "image/png": "[encoded data removed]",
            "text/plain": [
              "<Figure size 864x720 with 2 Axes>"
            ]
          },
          "metadata": {
            "tags": [],
            "needs_background": "light"
          }
        }
      ]
    },
    {
      "cell_type": "code",
      "metadata": {
        "id": "yVDEKoQeESdL",
        "colab_type": "code",
        "colab": {}
      },
      "source": [
        "dataset['door_to_seat'] = dataset[51] / dataset[52]"
      ],
      "execution_count": 0,
      "outputs": []
    },
    {
      "cell_type": "code",
      "metadata": {
        "id": "83vEN9zaEeio",
        "colab_type": "code",
        "outputId": "b0a055cc-de83-41db-e53d-503690c64227",
        "colab": {
          "base_uri": "https://localhost:8080/",
          "height": 221
        }
      },
      "source": [
        "dataset.corr()[53][45:]"
      ],
      "execution_count": 61,
      "outputs": [
        {
          "output_type": "execute_result",
          "data": {
            "text/plain": [
              "45              0.025040\n",
              "46             -0.452595\n",
              "47             -0.532419\n",
              "48              0.121616\n",
              "49              0.351507\n",
              "50             -0.324499\n",
              "51             -0.027380\n",
              "52             -0.014943\n",
              "53              1.000000\n",
              "54              0.334016\n",
              "door_to_seat   -0.015549\n",
              "Name: 53, dtype: float64"
            ]
          },
          "metadata": {
            "tags": []
          },
          "execution_count": 61
        }
      ]
    },
    {
      "cell_type": "code",
      "metadata": {
        "id": "Z6TDYiYrE6Vm",
        "colab_type": "code",
        "colab": {}
      },
      "source": [
        "dataset = dataset.drop('door_to_seat', axis = 1)"
      ],
      "execution_count": 0,
      "outputs": []
    },
    {
      "cell_type": "code",
      "metadata": {
        "id": "p_o0u8n_FwMN",
        "colab_type": "code",
        "colab": {}
      },
      "source": [
        "X = dataset.drop(53, axis=1)\n",
        "y = dataset[53]"
      ],
      "execution_count": 0,
      "outputs": []
    },
    {
      "cell_type": "code",
      "metadata": {
        "id": "eU8al3P_JE5h",
        "colab_type": "code",
        "colab": {}
      },
      "source": [
        ""
      ],
      "execution_count": 0,
      "outputs": []
    }
  ]
}